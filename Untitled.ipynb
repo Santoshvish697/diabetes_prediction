{
 "cells": [
  {
   "cell_type": "code",
   "execution_count": 7,
   "id": "9dfb2d06",
   "metadata": {},
   "outputs": [],
   "source": [
    "import datetime\n",
    "x = [datetime.datetime.now() + datetime.timedelta(days=i) for i in range(30)]"
   ]
  },
  {
   "cell_type": "code",
   "execution_count": 8,
   "id": "9e6c5a43",
   "metadata": {},
   "outputs": [],
   "source": [
    "import pandas as pd\n",
    "import numpy as np\n",
    "df = pd.DataFrame({'DateTime': x,\n",
    "'Glucose': 0},columns = [\"DateTime\",\"Glucose\"],index = [x for x in range(30)])"
   ]
  },
  {
   "cell_type": "code",
   "execution_count": 9,
   "id": "c1cb3ae1",
   "metadata": {},
   "outputs": [],
   "source": [
    "def append_df(df,count,val):\n",
    "    count = count+1\n",
    "    df.loc[count,'Glucose'] = val\n",
    "    plot_glucose(df)\n",
    "    return count"
   ]
  },
  {
   "cell_type": "code",
   "execution_count": 10,
   "id": "5047a860",
   "metadata": {},
   "outputs": [],
   "source": [
    "def plot_glucose(df):\n",
    "    fig = px.line(df,x = \"DateTime\",y = \"Glucose\")\n",
    "    fig.write_html(\"graph.html\")\n",
    "    return\n"
   ]
  },
  {
   "cell_type": "code",
   "execution_count": null,
   "id": "d0cbb6fa",
   "metadata": {},
   "outputs": [
    {
     "name": "stdout",
     "output_type": "stream",
     "text": [
      "Enter glucose:234\n",
      "Enter glucose:232\n",
      "Enter glucose:2323\n",
      "Enter glucose:67\n"
     ]
    }
   ],
   "source": [
    "while True:\n",
    "    gl = float(input(\"Enter glucose:\"))\n",
    "    cur = append_df(df,count,gl)\n",
    "    count += 1"
   ]
  },
  {
   "cell_type": "code",
   "execution_count": null,
   "id": "51eb8ced",
   "metadata": {},
   "outputs": [],
   "source": []
  }
 ],
 "metadata": {
  "kernelspec": {
   "display_name": "Python 3 (ipykernel)",
   "language": "python",
   "name": "python3"
  },
  "language_info": {
   "codemirror_mode": {
    "name": "ipython",
    "version": 3
   },
   "file_extension": ".py",
   "mimetype": "text/x-python",
   "name": "python",
   "nbconvert_exporter": "python",
   "pygments_lexer": "ipython3",
   "version": "3.9.7"
  }
 },
 "nbformat": 4,
 "nbformat_minor": 5
}
