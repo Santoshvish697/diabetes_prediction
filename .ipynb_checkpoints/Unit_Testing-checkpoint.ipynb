{
 "cells": [
  {
   "cell_type": "code",
   "execution_count": 1,
   "id": "58b1c8a2",
   "metadata": {},
   "outputs": [],
   "source": [
    "from cgi import test\n",
    "import pandas as pd\n",
    "import numpy as np\n",
    "import matplotlib.pyplot as plt\n",
    "import seaborn as sns\n",
    "import math\n",
    "from sklearn.preprocessing import StandardScaler, scale\n",
    "from sklearn.tree import DecisionTreeClassifier\n",
    "from sklearn.ensemble import RandomForestClassifier\n",
    "import plotly.express as px\n",
    "from sklearn.model_selection import train_test_split\n",
    "from sklearn import metrics\n",
    "from sklearn.metrics import classification_report, confusion_matrix\n",
    "from sklearn.model_selection import GridSearchCV\n",
    "from scipy import stats\n",
    "from sklearn import linear_model\n",
    "from sklearn.pipeline import Pipeline\n",
    "from sklearn import decomposition, datasets\n",
    "import seaborn as sns\n",
    "from sklearn.svm import SVC\n",
    "from sklearn.metrics import confusion_matrix, classification_report\n",
    "\n",
    "from collections import Counter\n",
    "from sklearn.datasets import make_classification\n",
    "from imblearn.over_sampling import SMOTE \n",
    "from sklearn.metrics import classification_report, confusion_matrix\n",
    "from sklearn import tree\n",
    "import pickle\n",
    "from sklearn.metrics import roc_curve\n",
    "from sklearn.metrics import roc_auc_score\n",
    "from sklearn.model_selection import GridSearchCV\n",
    "from sklearn.metrics import accuracy_score"
   ]
  },
  {
   "cell_type": "code",
   "execution_count": 2,
   "id": "b257430b",
   "metadata": {},
   "outputs": [],
   "source": [
    "df=pd.DataFrame(pd.read_excel(\"diabetes-dataset.xlsx\"))"
   ]
  },
  {
   "cell_type": "code",
   "execution_count": 3,
   "id": "1c899a42",
   "metadata": {},
   "outputs": [],
   "source": [
    "def prepare_data(df):\n",
    "    print(df.describe)\n",
    "    corr_mat = df.corr()\n",
    "    p = df.hist(figsize = (10,10))\n",
    "    mat_plot(corr_mat)"
   ]
  },
  {
   "cell_type": "code",
   "execution_count": 4,
   "id": "9038cdad",
   "metadata": {},
   "outputs": [],
   "source": [
    "def mat_plot(corr_mat):\n",
    "    f,ax = plt.subplots(figsize = (8,6))\n",
    "    sns.heatmap(corr_mat,cmap = \"GnBu\",annot = True, fmt = '.1f',ax = ax)\n",
    "    plt.show()"
   ]
  },
  {
   "cell_type": "code",
   "execution_count": 5,
   "id": "9f568785",
   "metadata": {},
   "outputs": [],
   "source": [
    "def preprocess(df):\n",
    "    diab_df_cpy = df.copy(deep = True)\n",
    "    diab_df_cpy[['Glucose','BloodPressure','SkinThickness','Insulin','BMI','DiabetesPedigreeFunction','Age']] = df[['Glucose','BloodPressure','SkinThickness','Insulin','BMI','DiabetesPedigreeFunction','Age']].replace(0,np.NaN)\n",
    "    diab_df_cpy['Glucose'].fillna(diab_df_cpy['Glucose'].mean(), inplace = True)\n",
    "    diab_df_cpy['BloodPressure'].fillna(diab_df_cpy['BloodPressure'].mean(), inplace = True)\n",
    "    diab_df_cpy['SkinThickness'].fillna(diab_df_cpy['SkinThickness'].median(), inplace = True)\n",
    "    diab_df_cpy['Insulin'].fillna(diab_df_cpy['Insulin'].median(), inplace = True)\n",
    "    diab_df_cpy['BMI'].fillna(diab_df_cpy['BMI'].median(), inplace = True)\n",
    "    return diab_df_cpy"
   ]
  },
  {
   "cell_type": "code",
   "execution_count": 6,
   "id": "e6fafde9",
   "metadata": {},
   "outputs": [],
   "source": [
    "def scale_data(diab_df_cpy):\n",
    "    sc_x = StandardScaler()\n",
    "    X =  pd.DataFrame(sc_x.fit_transform(diab_df_cpy.drop([\"Outcome\"],axis = 1),), columns=['Pregnancies', \n",
    "'Glucose', 'BloodPressure', 'SkinThickness', 'Insulin', 'BMI', 'DiabetesPedigreeFunction', 'Age'])\n",
    "    return X\n"
   ]
  },
  {
   "cell_type": "code",
   "execution_count": 7,
   "id": "9c28d4ad",
   "metadata": {},
   "outputs": [],
   "source": [
    "def visualizer(diab_df_cpy):\n",
    "    fig=px.histogram(diab_df_cpy,x='Age',marginal='violin')\n",
    "    fig.update_layout(bargap=0.2)\n",
    "    fig.show()\n",
    "    sns.countplot(data=diab_df_cpy,x='Outcome',palette='coolwarm')\n",
    "\n",
    "    fig=px.histogram(diab_df_cpy,x=diab_df_cpy[diab_df_cpy.Outcome==0].Age,marginal='box',title='Age distribution with outcome 0',color_discrete_sequence=['green'])\n",
    "    fig.update_layout(bargap=0.1)\n",
    "    fig.show()\n",
    "\n",
    "    fig=px.histogram(diab_df_cpy,x=diab_df_cpy[diab_df_cpy.Outcome==1].Age,marginal='box',title='Age distribution with outcome 1',color_discrete_sequence=['darkred'])\n",
    "    fig.update_layout(bargap=0.1)\n",
    "    fig.show()\n",
    "\n",
    "\n",
    "    fig = px.box(diab_df_cpy, y=\"Pregnancies\", x=\"Outcome\")\n",
    "    fig.show()\n",
    "\n",
    "\n",
    "    plt.subplots(figsize=(15,10))\n",
    "    sns.boxplot(x='Age', y='BMI', data=diab_df_cpy)\n",
    "    plt.show()\n",
    "\n",
    "    data_plot = sns.lmplot('Insulin','Age',data = diab_df_cpy, hue = 'Outcome',fit_reg = 'False')\n"
   ]
  },
  {
   "cell_type": "code",
   "execution_count": 8,
   "id": "20fdf112",
   "metadata": {},
   "outputs": [],
   "source": [
    "def split_train_test(diab_df_cpy):\n",
    "\n",
    "    y = diab_df_cpy.iloc[:,-1:]\n",
    "\n",
    "    X_train,X_test,Y_train,Y_test = train_test_split(diab_df,y,test_size = 0.2,random_state = 8)\n",
    "\n",
    "    column_lis = list(diab_df_cpy.columns[:-1])\n",
    "\n",
    "    ### SMOTE ANALYSIS FOR IMBALANCED DATASET\n",
    "    print(\"Percentage of Positive Values in training data before Smote :\",Y_train.value_counts(normalize=True)[1]/(Y_train.value_counts(normalize=True)[0]+Y_train.value_counts(normalize=True)[1])*100,\"%\")\n",
    "    print(\"Percentage of Negative Values in training data before Smote :\",Y_train.value_counts(normalize=True)[0]/(Y_train.value_counts(normalize=True)[0]+Y_train.value_counts(normalize=True)[1])*100,\"%\")\n",
    "\n",
    "    smote = SMOTE()\n",
    "    X_train,Y_train = smote.fit_resample(X_train,Y_train)\n",
    "    return X_train,Y_train,X_test,Y_test\n",
    "    #print(\"Shape of X after SMOTE: \",X_train.shape)"
   ]
  },
  {
   "cell_type": "code",
   "execution_count": 9,
   "id": "bfe65d44",
   "metadata": {},
   "outputs": [
    {
     "name": "stdout",
     "output_type": "stream",
     "text": [
      "Percentage of Positive Values in training data before Smote : 34.3125 %\n",
      "Percentage of Negative Values in training data before Smote : 65.6875 %\n"
     ]
    }
   ],
   "source": [
    "diab_df_cpy = preprocess(df)\n",
    "diab_df = scale_data(diab_df_cpy)\n",
    "X_train,Y_train,X_test,Y_test = split_train_test(diab_df_cpy)\n"
   ]
  },
  {
   "cell_type": "code",
   "execution_count": 10,
   "id": "f1f2cd54",
   "metadata": {},
   "outputs": [
    {
     "data": {
      "text/html": [
       "<div>\n",
       "<style scoped>\n",
       "    .dataframe tbody tr th:only-of-type {\n",
       "        vertical-align: middle;\n",
       "    }\n",
       "\n",
       "    .dataframe tbody tr th {\n",
       "        vertical-align: top;\n",
       "    }\n",
       "\n",
       "    .dataframe thead th {\n",
       "        text-align: right;\n",
       "    }\n",
       "</style>\n",
       "<table border=\"1\" class=\"dataframe\">\n",
       "  <thead>\n",
       "    <tr style=\"text-align: right;\">\n",
       "      <th></th>\n",
       "      <th>Pregnancies</th>\n",
       "      <th>Glucose</th>\n",
       "      <th>BloodPressure</th>\n",
       "      <th>SkinThickness</th>\n",
       "      <th>Insulin</th>\n",
       "      <th>BMI</th>\n",
       "      <th>DiabetesPedigreeFunction</th>\n",
       "      <th>Age</th>\n",
       "    </tr>\n",
       "  </thead>\n",
       "  <tbody>\n",
       "    <tr>\n",
       "      <th>0</th>\n",
       "      <td>-0.515394</td>\n",
       "      <td>0.524960</td>\n",
       "      <td>-0.870852</td>\n",
       "      <td>0.631010</td>\n",
       "      <td>-0.177601</td>\n",
       "      <td>0.132630</td>\n",
       "      <td>-1.063246</td>\n",
       "      <td>1.180424</td>\n",
       "    </tr>\n",
       "    <tr>\n",
       "      <th>1</th>\n",
       "      <td>-1.120495</td>\n",
       "      <td>-1.244054</td>\n",
       "      <td>0.803273</td>\n",
       "      <td>0.192542</td>\n",
       "      <td>-0.189864</td>\n",
       "      <td>0.772550</td>\n",
       "      <td>-0.735551</td>\n",
       "      <td>-0.856326</td>\n",
       "    </tr>\n",
       "    <tr>\n",
       "      <th>2</th>\n",
       "      <td>-1.120495</td>\n",
       "      <td>0.754277</td>\n",
       "      <td>0.000000</td>\n",
       "      <td>-0.026692</td>\n",
       "      <td>-0.177601</td>\n",
       "      <td>1.607229</td>\n",
       "      <td>0.491759</td>\n",
       "      <td>-0.177409</td>\n",
       "    </tr>\n",
       "    <tr>\n",
       "      <th>3</th>\n",
       "      <td>-1.120495</td>\n",
       "      <td>0.426682</td>\n",
       "      <td>-0.368614</td>\n",
       "      <td>1.398329</td>\n",
       "      <td>1.343080</td>\n",
       "      <td>1.342914</td>\n",
       "      <td>-0.327478</td>\n",
       "      <td>-0.771462</td>\n",
       "    </tr>\n",
       "    <tr>\n",
       "      <th>4</th>\n",
       "      <td>-0.817945</td>\n",
       "      <td>0.557720</td>\n",
       "      <td>-0.870852</td>\n",
       "      <td>1.288712</td>\n",
       "      <td>4.163696</td>\n",
       "      <td>1.120333</td>\n",
       "      <td>0.201161</td>\n",
       "      <td>-1.026055</td>\n",
       "    </tr>\n",
       "  </tbody>\n",
       "</table>\n",
       "</div>"
      ],
      "text/plain": [
       "   Pregnancies   Glucose  BloodPressure  SkinThickness   Insulin       BMI  \\\n",
       "0    -0.515394  0.524960      -0.870852       0.631010 -0.177601  0.132630   \n",
       "1    -1.120495 -1.244054       0.803273       0.192542 -0.189864  0.772550   \n",
       "2    -1.120495  0.754277       0.000000      -0.026692 -0.177601  1.607229   \n",
       "3    -1.120495  0.426682      -0.368614       1.398329  1.343080  1.342914   \n",
       "4    -0.817945  0.557720      -0.870852       1.288712  4.163696  1.120333   \n",
       "\n",
       "   DiabetesPedigreeFunction       Age  \n",
       "0                 -1.063246  1.180424  \n",
       "1                 -0.735551 -0.856326  \n",
       "2                  0.491759 -0.177409  \n",
       "3                 -0.327478 -0.771462  \n",
       "4                  0.201161 -1.026055  "
      ]
     },
     "execution_count": 10,
     "metadata": {},
     "output_type": "execute_result"
    }
   ],
   "source": [
    "diab_df.head()"
   ]
  },
  {
   "cell_type": "code",
   "execution_count": 11,
   "id": "1acd9137",
   "metadata": {},
   "outputs": [],
   "source": [
    "def dtree_classifier():\n",
    "    column_lis = X_train.columns\n",
    "    dtree = DecisionTreeClassifier(max_depth = 15,random_state = 0, \n",
    "                                min_samples_split = 2)\n",
    "    dtree = dtree.fit(X_train,Y_train)\n",
    "    Y_pred = dtree.predict(x_test_scaled)\n",
    "    #Change using streamlit lib\n",
    "    accu_score_dtree = metrics.accuracy_score(Y_test,Y_pred)*100\n",
    "    pickle_dt = open(\"dtree_classifier.pkl\",mode = \"wb\")\n",
    "    pickle.dump(dtree,pickle_dt)\n",
    "    pickle_dt.close()\n",
    "    return Y_pred,accu_score_dtree"
   ]
  },
  {
   "cell_type": "code",
   "execution_count": 12,
   "id": "a2ba1725",
   "metadata": {},
   "outputs": [],
   "source": [
    "def vis_dtree(model,Y_pred):\n",
    "    column_lis = X_train.columns\n",
    "    conf_mat = confusion_matrix(Y_test,Y_pred)\n",
    "    plt.figure(figsize = (7,5))\n",
    "    sns.heatmap(conf_mat,annot = True)\n",
    "    plt.show()\n",
    "    plt.figure(figsize = (7,5))\n",
    "    pd.Series(model.feature_importances_,index = column_lis).plot(kind = 'barh')\n",
    "    plot_dtree(model,X_train)\n",
    "    return"
   ]
  },
  {
   "cell_type": "code",
   "execution_count": 13,
   "id": "52026940",
   "metadata": {},
   "outputs": [],
   "source": [
    "def plot_dtree(model_name,train_data):\n",
    "    fig = plt.figure(figsize=(250,200))\n",
    "    _ = tree.plot_tree(\n",
    "        model_name,\n",
    "        feature_names = train_data.columns,\n",
    "        class_names = ['NEGATIVE','POSTIVE'],\n",
    "        filled = True\n",
    "    )\n",
    "    fig.savefig(\"decision_tree.png\")\n",
    "    return"
   ]
  },
  {
   "cell_type": "code",
   "execution_count": 14,
   "id": "4fee844c",
   "metadata": {
    "scrolled": true
   },
   "outputs": [],
   "source": [
    "Y_train_arr = Y_train['Outcome'].ravel()"
   ]
  },
  {
   "cell_type": "code",
   "execution_count": 24,
   "id": "d47cdc4c",
   "metadata": {},
   "outputs": [],
   "source": [
    "def rf_classifier():\n",
    "    Y_train_arr = np.array(Y_train['Outcome'])\n",
    "    rfc = RandomForestClassifier(n_estimators = 500)\n",
    "    rfc.fit(X_train,Y_train_arr) \n",
    "    # Overfitted\n",
    "    # y_train_rfc = rfc.predict(x_train_scaled)\n",
    "    # print(\"TRAINING Accuracy Score = {}\".format(metrics.accuracy_score(Y_train,y_train_rfc)))\n",
    "    rfc_cv = hyper_param_model(rfc)\n",
    "    print(\"RFC Score = {}%\".format(rfc.score(X_test,Y_test)*100))\n",
    "    y_pred_rfc = rfc_cv.predict(X_test)\n",
    "    test_accu_score = metrics.accuracy_score(Y_test,y_pred_rfc)*100\n",
    "    y_train_rfc = rfc_cv.predict(X_train)\n",
    "    print(\"TRAINING Accuracy Score = {}\".format(metrics.accuracy_score(Y_train,y_train_rfc)))\n",
    "    vis_rf(rfc_cv,y_pred_rfc)\n",
    "    return y_pred_rfc,test_accu_score"
   ]
  },
  {
   "cell_type": "code",
   "execution_count": 16,
   "id": "65df6be9",
   "metadata": {},
   "outputs": [],
   "source": [
    "def vis_rf(model,y_pred_rfc):\n",
    "    #Classification Report\n",
    "    report_rfc = classification_report(Y_test,y_pred_rfc)\n",
    "    print(report_rfc)\n",
    "    rfc_cros_valid = hyper_param_model(model)\n",
    "    y_pred_rfc_cv = rfc_cros_valid.predict(x_test_scaled)\n",
    "    \n",
    "    print(\"Accuracy Score:- {}%\".format(metrics.accuracy_score(Y_test,y_pred_rfc_cv)*100))\n",
    "\n",
    "    print(\"Training Accuracy Score = {}%\".format(metrics.accuracy_score(Y_train,rfc_cros_valid.predict(X_train))))\n",
    "    mat_rfc_cros_valid = confusion_matrix(Y_test,y_pred_rfc_cv)\n",
    "    print(mat_rfc_cros_valid)\n",
    "    plt.figure(figsize = (7,5))\n",
    "    sns.heatmap(mat_rfc_cros_valid,annot = True)\n",
    "    roc_plot(model)\n",
    "    pd.Series(rfc_cros_valid.feature_importances_,index = X_train.columns).plot(kind = 'barh')\n",
    "    return\n"
   ]
  },
  {
   "cell_type": "code",
   "execution_count": 17,
   "id": "39909ae8",
   "metadata": {},
   "outputs": [],
   "source": [
    "def roc_plot(model):\n",
    "    y_pred_prob = model.predict_proba(x_test_scaled)[:,1]\n",
    "    fpr,tpr, thresholds = roc_curve(Y_test,y_pred_prob)\n",
    "    plt.figure(figsize=(7,10))\n",
    "    plt.plot([0,1] , [0,1],'k-')\n",
    "    plt.plot(fpr,tpr,label = 'Knn')\n",
    "    plt.xlabel('fpr')\n",
    "    plt.ylabel('tpr')\n",
    "    plt.title('ROC Curve')\n",
    "    plt.show()\n",
    "    print(\"Area under ROC/AUC Curve = {}%\".format(roc_auc_score(Y_test,y_pred_prob)*100))\n"
   ]
  },
  {
   "cell_type": "code",
   "execution_count": 29,
   "id": "57f7aa09",
   "metadata": {},
   "outputs": [],
   "source": [
    "def hyper_param_model(model):\n",
    "    \n",
    "    param_grid_aug = {\n",
    "        'n_estimators':[500],\n",
    "        'max_features':['sqrt','log2'], #range of values ex - 5 to 15\n",
    "        'max_depth':[27],#[i for i in range (25,30)]\n",
    "        'max_leaf_nodes': [173], #set to range of values 5 to 15 [i for i in range (150,181)]\n",
    "        'criterion':['gini'],\n",
    "        'min_samples_leaf':[1], #NOT create range from 20 to 50 in steps of 5\n",
    "    }\n",
    "\n",
    "    Y_train_arr = Y_train['Outcome'].ravel()\n",
    "    CV_rfc_aug = GridSearchCV(estimator = model,param_grid = param_grid_aug,cv = 5,n_jobs = -1)\n",
    "    CV_rfc_aug.fit(X_train,Y_train_arr)\n",
    "    rfc_cros_valid = CV_rfc_aug. best_estimator_\n",
    "    pickle_rf = open(\"rf_classifier.pkl\",mode = \"wb\")\n",
    "    pickle.dump(rfc_cros_valid,pickle_rf)\n",
    "    pickle_rf.close()\n",
    "    return rfc_cros_valid"
   ]
  },
  {
   "cell_type": "code",
   "execution_count": 30,
   "id": "4d8e8782",
   "metadata": {},
   "outputs": [],
   "source": [
    "def log_regression():\n",
    "    log_reg=linear_model.LogisticRegression(max_iter=50000)\n",
    "    Y_train_arr = Y_train['Outcome'].ravel()\n",
    "    log_reg.fit(X_train,Y_train_arr)\n",
    "    log_reg_cv = hyper_logreg(log_reg)\n",
    "    predicted=log_reg_cv.predict(x_test_scaled)\n",
    "    test_accu_score = metrics.accuracy_score(Y_test,predicted)\n",
    "    vis_logreg(log_reg,predicted)\n",
    "    return test_accu_score"
   ]
  },
  {
   "cell_type": "code",
   "execution_count": 31,
   "id": "7b17d16f",
   "metadata": {},
   "outputs": [],
   "source": [
    "def vis_logreg(model,predicted):\n",
    "    Y_train_arr = Y_train['Outcome'].ravel()\n",
    "\n",
    "    cf_matrix = confusion_matrix(Y_test,predicted)\n",
    "    sns.heatmap(cf_matrix/np.sum(cf_matrix), annot=True, \n",
    "                fmt='.2%', cmap='Blues')\n",
    "    plt.show()\n",
    "    \n",
    "    #Plot results comparison graph\n",
    "    coeff = list(model.coef_[0])\n",
    "    labels = list(X_train.columns)\n",
    "    features = pd.DataFrame()\n",
    "    features['Features'] = labels\n",
    "    features['importance'] = coeff\n",
    "    features.sort_values(by=['importance'], ascending=True, inplace=True)\n",
    "    features['positive'] = features['importance'] > 0\n",
    "    features.set_index('Features', inplace=True)\n",
    "    features.importance.plot(kind='barh', figsize=(11, 6),color = features.positive.map({True: 'blue', False: 'red'}))\n",
    "    plt.xlabel('Importance')\n",
    "    log_reg_cv = hyper_logreg(model)\n",
    "    roc_plot(log_reg_cv)\n",
    "    pickle_lr = open(\"logreg.pkl\",mode = \"wb\")\n",
    "    pickle.dump(log_reg_cv,pickle_lr)\n",
    "    pickle_lr.close()\n",
    "    return"
   ]
  },
  {
   "cell_type": "code",
   "execution_count": 32,
   "id": "8ae28b84",
   "metadata": {},
   "outputs": [],
   "source": [
    "def hyper_logreg(model):\n",
    "    c_space = np.logspace(-1,2,15)\n",
    "    param_grid = {'solver':['newton-cg', 'lbfgs', 'liblinear'],'C':c_space}\n",
    "    log_reg_cv = GridSearchCV(model,param_grid,cv = 5)\n",
    "    log_reg_cv.fit(X_train,Y_train_arr)\n",
    "    print(\"Validation Accuracy of improved model = {}\".format(log_reg_cv.best_score_))\n",
    "    return log_reg_cv\n"
   ]
  },
  {
   "cell_type": "code",
   "execution_count": 35,
   "id": "8e407117",
   "metadata": {},
   "outputs": [],
   "source": [
    "def sv_classifier():\n",
    "    Q1 = df.quantile(0.25)\n",
    "    Q3 = df.quantile(0.75)\n",
    "    IQR = Q3 - Q1\n",
    "    print(IQR)\n",
    "    diab_df_cpy_up = diab_df_cpy[~((diab_df_cpy < (Q1 - 1.5 * IQR)) |(diab_df_cpy > (Q3 + 1.5 * IQR))).any(axis=1)]\n",
    "    classifier = SVC(kernel = 'rbf', random_state = 0,probability = True)\n",
    "    classifier.fit(X_train, Y_train_arr)\n",
    "    # Hyperparameter Tuning\n",
    "    param_grid = {'C': [0.1,1, 10, 100], 'gamma': [1,0.1,0.01,0.001],'kernel': ['rbf']}\n",
    "    grid = GridSearchCV(classifier,param_grid,refit = True, verbose = 2)\n",
    "    grid.fit(X_train,Y_train_arr)\n",
    "    grid_cv = grid.best_estimator_\n",
    "    grid_prediction = grid_cv.predict(x_test_scaled)\n",
    "    mat_svm = confusion_matrix(Y_test['Outcome'],grid_prediction)\n",
    "    plt.figure(figsize = (7,5))\n",
    "    sns.heatmap(mat_svm,annot = True)\n",
    "    print(classification_report(Y_test['Outcome'],grid_prediction))\n",
    "    test_accu_score = accuracy_score(Y_test['Outcome'], grid_prediction)*100\n",
    "    roc_plot(grid_cv)\n",
    "    pickle_svm = open(\"svc_classifier.pkl\",mode = \"wb\")\n",
    "    pickle.dump(grid_cv,pickle_svm)\n",
    "    pickle_svm.close()\n",
    "    return test_accu_score\n"
   ]
  },
  {
   "cell_type": "code",
   "execution_count": 36,
   "id": "343955af",
   "metadata": {
    "scrolled": true
   },
   "outputs": [
    {
     "name": "stdout",
     "output_type": "stream",
     "text": [
      "RFC Score = 98.5%\n"
     ]
    },
    {
     "ename": "NameError",
     "evalue": "name 'x_train_scaled' is not defined",
     "output_type": "error",
     "traceback": [
      "\u001b[1;31m---------------------------------------------------------------------------\u001b[0m",
      "\u001b[1;31mNameError\u001b[0m                                 Traceback (most recent call last)",
      "\u001b[1;32mC:\\Users\\SANTOS~1\\AppData\\Local\\Temp/ipykernel_27948/871312117.py\u001b[0m in \u001b[0;36m<module>\u001b[1;34m\u001b[0m\n\u001b[0;32m      1\u001b[0m \u001b[1;32mif\u001b[0m \u001b[0m__name__\u001b[0m \u001b[1;33m==\u001b[0m \u001b[1;34m\"__main__\"\u001b[0m\u001b[1;33m:\u001b[0m\u001b[1;33m\u001b[0m\u001b[1;33m\u001b[0m\u001b[0m\n\u001b[1;32m----> 2\u001b[1;33m     \u001b[0mrf_classifier\u001b[0m\u001b[1;33m(\u001b[0m\u001b[1;33m)\u001b[0m\u001b[1;33m\u001b[0m\u001b[1;33m\u001b[0m\u001b[0m\n\u001b[0m",
      "\u001b[1;32mC:\\Users\\SANTOS~1\\AppData\\Local\\Temp/ipykernel_27948/529454287.py\u001b[0m in \u001b[0;36mrf_classifier\u001b[1;34m()\u001b[0m\n\u001b[0;32m     10\u001b[0m     \u001b[0my_pred_rfc\u001b[0m \u001b[1;33m=\u001b[0m \u001b[0mrfc_cv\u001b[0m\u001b[1;33m.\u001b[0m\u001b[0mpredict\u001b[0m\u001b[1;33m(\u001b[0m\u001b[0mX_test\u001b[0m\u001b[1;33m)\u001b[0m\u001b[1;33m\u001b[0m\u001b[1;33m\u001b[0m\u001b[0m\n\u001b[0;32m     11\u001b[0m     \u001b[0mtest_accu_score\u001b[0m \u001b[1;33m=\u001b[0m \u001b[0mmetrics\u001b[0m\u001b[1;33m.\u001b[0m\u001b[0maccuracy_score\u001b[0m\u001b[1;33m(\u001b[0m\u001b[0mY_test\u001b[0m\u001b[1;33m,\u001b[0m\u001b[0my_pred_rfc\u001b[0m\u001b[1;33m)\u001b[0m\u001b[1;33m*\u001b[0m\u001b[1;36m100\u001b[0m\u001b[1;33m\u001b[0m\u001b[1;33m\u001b[0m\u001b[0m\n\u001b[1;32m---> 12\u001b[1;33m     \u001b[0my_train_rfc\u001b[0m \u001b[1;33m=\u001b[0m \u001b[0mrfc_cv\u001b[0m\u001b[1;33m.\u001b[0m\u001b[0mpredict\u001b[0m\u001b[1;33m(\u001b[0m\u001b[0mx_train_scaled\u001b[0m\u001b[1;33m)\u001b[0m\u001b[1;33m\u001b[0m\u001b[1;33m\u001b[0m\u001b[0m\n\u001b[0m\u001b[0;32m     13\u001b[0m     \u001b[0mprint\u001b[0m\u001b[1;33m(\u001b[0m\u001b[1;34m\"TRAINING Accuracy Score = {}\"\u001b[0m\u001b[1;33m.\u001b[0m\u001b[0mformat\u001b[0m\u001b[1;33m(\u001b[0m\u001b[0mmetrics\u001b[0m\u001b[1;33m.\u001b[0m\u001b[0maccuracy_score\u001b[0m\u001b[1;33m(\u001b[0m\u001b[0mY_train\u001b[0m\u001b[1;33m,\u001b[0m\u001b[0my_train_rfc\u001b[0m\u001b[1;33m)\u001b[0m\u001b[1;33m)\u001b[0m\u001b[1;33m)\u001b[0m\u001b[1;33m\u001b[0m\u001b[1;33m\u001b[0m\u001b[0m\n\u001b[0;32m     14\u001b[0m     \u001b[0mvis_rf\u001b[0m\u001b[1;33m(\u001b[0m\u001b[0mrfc_cv\u001b[0m\u001b[1;33m,\u001b[0m\u001b[0my_pred_rfc\u001b[0m\u001b[1;33m)\u001b[0m\u001b[1;33m\u001b[0m\u001b[1;33m\u001b[0m\u001b[0m\n",
      "\u001b[1;31mNameError\u001b[0m: name 'x_train_scaled' is not defined"
     ]
    }
   ],
   "source": [
    "if __name__ == \"__main__\":\n",
    "    rf_classifier()"
   ]
  },
  {
   "cell_type": "code",
   "execution_count": null,
   "id": "9edc0f40",
   "metadata": {
    "scrolled": true
   },
   "outputs": [],
   "source": [
    "log_regression()"
   ]
  },
  {
   "cell_type": "code",
   "execution_count": null,
   "id": "3c5735dd",
   "metadata": {
    "scrolled": false
   },
   "outputs": [],
   "source": [
    "sv_classifier()"
   ]
  },
  {
   "cell_type": "code",
   "execution_count": null,
   "id": "0008e73c",
   "metadata": {
    "scrolled": true
   },
   "outputs": [],
   "source": [
    "pickle_in = open('rf_classifier.pkl','rb')\n",
    "classifier = pickle.load(pickle_in)"
   ]
  },
  {
   "cell_type": "code",
   "execution_count": null,
   "id": "361f7ca0",
   "metadata": {
    "scrolled": true
   },
   "outputs": [],
   "source": [
    "diab_df_cpy"
   ]
  },
  {
   "cell_type": "code",
   "execution_count": null,
   "id": "a2e9fb28",
   "metadata": {
    "scrolled": true
   },
   "outputs": [],
   "source": [
    "sc_x = StandardScaler()\n",
    "arr = np.array([0.0,84.0,82.000000,31.0,125.0,38.2,0.233,23.0]).reshape(1,8)\n",
    "sc_arr = sc_x.fit_transform(arr)\n",
    "print(classifier.predict(sc_arr))"
   ]
  },
  {
   "cell_type": "code",
   "execution_count": null,
   "id": "bb805356",
   "metadata": {
    "scrolled": true
   },
   "outputs": [],
   "source": [
    "X_test.iloc[0,:]"
   ]
  },
  {
   "cell_type": "code",
   "execution_count": null,
   "id": "738289d4",
   "metadata": {
    "scrolled": true
   },
   "outputs": [],
   "source": [
    "pip install tk"
   ]
  },
  {
   "cell_type": "code",
   "execution_count": null,
   "id": "09e17d20",
   "metadata": {},
   "outputs": [],
   "source": [
    "import tkinter.font as TkFont"
   ]
  },
  {
   "cell_type": "code",
   "execution_count": null,
   "id": "27a499b6",
   "metadata": {},
   "outputs": [],
   "source": [
    "import fontstyle"
   ]
  },
  {
   "cell_type": "code",
   "execution_count": null,
   "id": "beb297e9",
   "metadata": {},
   "outputs": [],
   "source": [
    "text = fontstyle.apply('GEEKSFORGEEKS', 'bold/Italic/red/GREEN_BG')"
   ]
  },
  {
   "cell_type": "code",
   "execution_count": null,
   "id": "b85c7f08",
   "metadata": {},
   "outputs": [],
   "source": [
    "print(text)"
   ]
  },
  {
   "cell_type": "code",
   "execution_count": null,
   "id": "b0bea6ff",
   "metadata": {},
   "outputs": [],
   "source": [
    "X_test.head()"
   ]
  },
  {
   "cell_type": "code",
   "execution_count": null,
   "id": "83822bee",
   "metadata": {},
   "outputs": [],
   "source": []
  }
 ],
 "metadata": {
  "kernelspec": {
   "display_name": "Python 3 (ipykernel)",
   "language": "python",
   "name": "python3"
  },
  "language_info": {
   "codemirror_mode": {
    "name": "ipython",
    "version": 3
   },
   "file_extension": ".py",
   "mimetype": "text/x-python",
   "name": "python",
   "nbconvert_exporter": "python",
   "pygments_lexer": "ipython3",
   "version": "3.9.7"
  }
 },
 "nbformat": 4,
 "nbformat_minor": 5
}
